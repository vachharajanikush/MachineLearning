{
 "cells": [
  {
   "cell_type": "code",
   "execution_count": null,
   "metadata": {
    "id": "Pdj-M8hLmqIg"
   },
   "outputs": [],
   "source": [
    "# To install Pandas library\n",
    "# pip install pandas"
   ]
  },
  {
   "cell_type": "code",
   "execution_count": null,
   "metadata": {
    "id": "PIxag0O8HJqw"
   },
   "outputs": [],
   "source": [
    "# Load Pandas Library\n",
    "import pandas as pd\n",
    "\n",
    "#Creating DataFrame and Loading csv file\n",
    "df = pd.read_csv('/content/sample_data/Batch 21-23 profile for placement.csv')\n",
    "\n",
    "#len(df)\n",
    "#df.shape\n",
    "#df\n",
    "#df.tail(2)\n",
    "#df.query('Graduation > 80').head(2)\n",
    "#df.query(\"Course == 'MCA'\").head(2)\n"
   ]
  },
  {
   "cell_type": "code",
   "execution_count": 1,
   "metadata": {
    "colab": {
     "base_uri": "https://localhost:8080/",
     "height": 277
    },
    "id": "h4_h70Gamujo",
    "outputId": "7a755d0d-abf0-47da-a45b-5b45994c2ea2"
   },
   "outputs": [],
   "source": [
    "#Display Dataframe\n",
    "#df\n",
    "\n",
    "#Loading top few rows of DataFrame\n",
    "#df.head(3)\n",
    "\n",
    "#Loading bottom few rows of DataFrame\n",
    "#df.tail(3)\n"
   ]
  },
  {
   "cell_type": "code",
   "execution_count": null,
   "metadata": {
    "id": "fXNJx1cdm8s7"
   },
   "outputs": [],
   "source": [
    "#Dataframe dimension - Total number of rows and columns\n",
    "#df.shape\n",
    "\n",
    "#Dataframe length - Total number of Rows\n",
    "#len(df)"
   ]
  },
  {
   "cell_type": "code",
   "execution_count": 2,
   "metadata": {
    "colab": {
     "base_uri": "https://localhost:8080/",
     "height": 381
    },
    "id": "C3AGy-OGpEQ2",
    "outputId": "3d27a4ad-1040-4e4a-fd30-dc5665b1e452"
   },
   "outputs": [],
   "source": [
    "#Navigating DataFrame - Display rows with all columns from 0th index to 2nd index \n",
    "#df.iloc[0:3]\n",
    "\n",
    "#Navigating DataFrame - Display rows with all columns from 0th index(default) to 2nd index \n",
    "#df.iloc[:3]\n",
    "\n",
    "#Navigating DataFrame - Display rows with all columns from 3rd as start index till end of total length\n",
    "#df.iloc[3:]\n",
    "\n",
    "#Display all the columns/features of the Dataset\n",
    "#df.columns\n",
    "#df.columns[1]  # Column Name at Index = 1\n",
    "#df.loc[[0,3,5]]  # Records at Rows with Index = 0,3,5"
   ]
  },
  {
   "cell_type": "code",
   "execution_count": 3,
   "metadata": {
    "colab": {
     "base_uri": "https://localhost:8080/",
     "height": 298
    },
    "id": "ll4yWsuxrwPn",
    "outputId": "ca706c5c-806c-481b-8214-66610db6f47d"
   },
   "outputs": [],
   "source": [
    "#Selecting Rows based on Conditions\n",
    "#1. Option 1\n",
    "#df[df['Course']== 'MCA'].head(2)\n",
    "\n",
    "#2. Option 2\n",
    "#df.query(\"Course == 'MCA'\").head(2) \n",
    "\n",
    "#Combining conditions\n",
    "#1. Option 1\n",
    "#df[(df['Course'] == 'MScIT') & (df['Graduation'] > 80)].head(2)\n",
    "\n",
    "#2. Option 2\n",
    "#df.query(\"Graduation > 80 & Course == 'MScIT' \").head(2)\n"
   ]
  },
  {
   "cell_type": "code",
   "execution_count": 4,
   "metadata": {
    "colab": {
     "base_uri": "https://localhost:8080/"
    },
    "id": "Ybi4Ln7YJSOw",
    "outputId": "0d6761f8-c5be-43da-e634-6f9092758a95"
   },
   "outputs": [],
   "source": [
    "#Finding Minimum, Maximum, Sum, Average and Count on Numeric Column\n",
    "#df['PG Avg. till now (%)'].max()\n",
    "#df['PG Avg. till now (%)'].min()\n",
    "#df['PG Avg. till now (%)'].mean()\n",
    "#df['PG Avg. till now (%)'].count()\n",
    "#df['PG Avg. till now (%)'].sum()\n"
   ]
  },
  {
   "cell_type": "code",
   "execution_count": 5,
   "metadata": {
    "colab": {
     "base_uri": "https://localhost:8080/",
     "height": 245
    },
    "id": "yYvEENpVNyQH",
    "outputId": "c049bd3e-66ee-4675-fa8a-ff1aa82fc97f"
   },
   "outputs": [],
   "source": [
    "#Replacing Values \n",
    "#df['M/F'].replace(\"Male\",\"M\")\n",
    "\n",
    "#Replacing Multiple Values \n",
    "#df['M/F'].replace([\"Male\", \"Female\"],[\"M\",\"F\"])\n",
    "\n",
    "#Renaming Columns\n",
    "#df.rename(columns={'M/F': 'Gender'})\n",
    "\n",
    "#Check value is Null\n",
    "#df[df['Name'].isnull()].head(2)\n",
    "\n"
   ]
  },
  {
   "cell_type": "code",
   "execution_count": null,
   "metadata": {
    "id": "pGignKkHTuvz"
   },
   "outputs": [],
   "source": [
    "#Deleting Columns\n",
    "#df.drop('M/F')\n",
    "#df.drop(['Sr No', 'Course'], axis=1)\n",
    "#df.drop(columns='Name', axis=1)\n",
    "#df.drop(df.columns[0], axis=1)\n",
    "\n",
    "#Deleting Rows\n",
    "#df.drop([0,1])\n",
    "\n",
    "#Deleting Rows with Condition\n",
    "\n",
    "#df1 = df[df['M/F'] != 'Female'] \n",
    "\n",
    "# aama kevu che ke alag data frame ma pehla condition thi data lidho che and pachi e dataframe\n",
    "# mathi data delete thay che \n",
    "\n",
    "#df1\n",
    "#df1.drop([2,3])\n"
   ]
  },
  {
   "cell_type": "code",
   "execution_count": null,
   "metadata": {},
   "outputs": [],
   "source": [
    "#Finding Unique Values and Count\n",
    "df\n",
    "#df['Course'].unique()\n",
    "#df['Course'].value_counts()\n",
    "#df['Course'].nunique()\n",
    "\n",
    "#Handling Missing Values\n",
    "#df[df['Course'].isnull()].tail(5)\n",
    "df['Course'] = df['Course'].replace(np.nan,'CS&IT')\n",
    "df['Course'].tail(5)\n",
    "\n"
   ]
  },
  {
   "cell_type": "code",
   "execution_count": null,
   "metadata": {},
   "outputs": [],
   "source": [
    "#Grouping Rows by Values\n",
    "#df.groupby('Course').mean()\n",
    "#df.groupby(['Course','M/F']).mean()\n",
    "df.groupby(['Course','M/F'])['Graduation'].mean()\n",
    "\n",
    "#Looping Over\n",
    "#for name in df['Name'][0:5]:\n",
    "  # print(name.lower())\n",
    "[name.upper() for name in df['Name'][0:2]]\n",
    "\n",
    "\n",
    "#Merging and Concating DataFrames\n",
    "# merge() with paramter on - specifying column name\n",
    "# concat() used with axis=0 and axis=1\n",
    "# append() to add row at end"
   ]
  },
  {
   "cell_type": "code",
   "execution_count": null,
   "metadata": {
    "colab": {
     "base_uri": "https://localhost:8080/",
     "height": 331
    },
    "id": "OvY3UMEdLWJ-",
    "outputId": "f5112fdb-d5fb-41d3-f0f7-fc998ca3f03b"
   },
   "outputs": [
    {
     "data": {
      "text/plain": [
       "Text(0.5, 1.0, 'Bar Graph')"
      ]
     },
     "execution_count": 8,
     "metadata": {},
     "output_type": "execute_result"
    },
    {
     "data": {
      "image/png": "[encoded data removed]",
      "text/plain": [
       "<Figure size 432x288 with 1 Axes>"
      ]
     },
     "metadata": {
      "needs_background": "light"
     },
     "output_type": "display_data"
    }
   ],
   "source": [
    "#Data Visualization\n",
    "#Line Chart, Bar Chart, Histogram, Scatter plot\n",
    "\n",
    "import matplotlib.pyplot as plt\n",
    "#df.plot()\n",
    "#plt.show()\n",
    "\n",
    "#df.plot(kind='scatter', x='SSC (%)', y='HSC (%)', color='blue')\n",
    "#plt.title('Scatter Graph')\n",
    "#plt.show()\n",
    "\n",
    "#df.plot(kind='bar', x='SSC (%)', y='HSC (%)', color='blue')\n",
    "#plt.title('Bar Graph')\n",
    "#plt.show()\n",
    "\n",
    "#df1 = df.head(10)\n",
    "#ax = plt.gca()\n",
    "#df1.plot(kind='line', x='Name', y='HSC (%)', color='blue', ax=ax)\n",
    "#df1.plot(kind='line', x='Name', y='SSC (%)', color='red', ax=ax)\n",
    "#df1.plot(kind='line', x='Name', y='Graduation', color='black', ax=ax)\n",
    "#plt.show()\n",
    "\n",
    "#Histogram\n",
    "#df1['Graduation'].hist()\n"
   ]
  }
 ],
 "metadata": {
  "colab": {
   "provenance": []
  },
  "kernelspec": {
   "display_name": "Python 3 (ipykernel)",
   "language": "python",
   "name": "python3"
  },
  "language_info": {
   "codemirror_mode": {
    "name": "ipython",
    "version": 3
   },
   "file_extension": ".py",
   "mimetype": "text/x-python",
   "name": "python",
   "nbconvert_exporter": "python",
   "pygments_lexer": "ipython3",
   "version": "3.9.13"
  }
 },
 "nbformat": 4,
 "nbformat_minor": 1
}
